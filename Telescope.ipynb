{
  "nbformat": 4,
  "nbformat_minor": 0,
  "metadata": {
    "colab": {
      "provenance": [],
      "authorship_tag": "ABX9TyNKZHFc2f3aAk9BGzQtomMN",
      "include_colab_link": true
    },
    "kernelspec": {
      "name": "python3",
      "display_name": "Python 3"
    },
    "language_info": {
      "name": "python"
    }
  },
  "cells": [
    {
      "cell_type": "markdown",
      "metadata": {
        "id": "view-in-github",
        "colab_type": "text"
      },
      "source": [
        "<a href=\"https://colab.research.google.com/github/SpaceExp263/Imdone/blob/main/Telescope.ipynb\" target=\"_parent\"><img src=\"https://colab.research.google.com/assets/colab-badge.svg\" alt=\"Open In Colab\"/></a>"
      ]
    },
    {
      "cell_type": "code",
      "execution_count": null,
      "metadata": {
        "colab": {
          "base_uri": "https://localhost:8080/"
        },
        "id": "aWClrGhdTxDW",
        "outputId": "d386fb9f-5334-498d-8c37-5a7a1fa5a643"
      },
      "outputs": [
        {
          "output_type": "stream",
          "name": "stdout",
          "text": [
            "Looking in indexes: https://pypi.org/simple, https://us-python.pkg.dev/colab-wheels/public/simple/\n",
            "Collecting celestron-point\n",
            "  Downloading celestron-point-0.0.2.tar.gz (2.4 kB)\n",
            "Collecting pyserial\n",
            "  Downloading pyserial-3.5-py2.py3-none-any.whl (90 kB)\n",
            "\u001b[K     |████████████████████████████████| 90 kB 10.3 MB/s \n",
            "\u001b[?25hBuilding wheels for collected packages: celestron-point\n",
            "  Building wheel for celestron-point (setup.py) ... \u001b[?25l\u001b[?25hdone\n",
            "  Created wheel for celestron-point: filename=celestron_point-0.0.2-py3-none-any.whl size=2831 sha256=7d4a474b55708fc0e4d2b8c5387bc151047ed843c3125b915b8c5f06f4fcd9e6\n",
            "  Stored in directory: /root/.cache/pip/wheels/4c/45/6f/70dd5182cb249b19bb7ad65444db8d0b6288a786a6d9b90903\n",
            "Successfully built celestron-point\n",
            "Installing collected packages: pyserial, celestron-point\n",
            "Successfully installed celestron-point-0.0.2 pyserial-3.5\n"
          ]
        }
      ],
      "source": [
        "\n",
        "# https://www.w3schools.com/python/pandas/pandas_dataframes.asp\n",
        "# https://stackoverflow.com/questions/17534345/typeerror-missing-1-required-positional-argument-self\n",
        "# https://github.com/seeing-things/point/blob/master/point/nexstar.py\n",
        "# https://realpython.com/run-python-scripts/#:~:text=To%20run%20Python%20scripts%20with,see%20the%20phrase%20Hello%20World!"
      ]
    },
    {
      "cell_type": "code",
      "source": [
        "##all the code for the telescope \n",
        "!pip install celestron-point\n",
        "from point import nexstar as np\n",
        "n=np.NexStar('/dev/ttyUSB0',read_timeout=3.5)\n",
        "print(np.NexStar.get_location())\n",
        "np.NexStar.set_tracking_mode(1)\n",
        "\n"
      ],
      "metadata": {
        "colab": {
          "base_uri": "https://localhost:8080/",
          "height": 492
        },
        "id": "cZtOG0zUUCp6",
        "outputId": "310f8dd2-6f8a-426c-f641-5adcb5745ae6"
      },
      "execution_count": null,
      "outputs": [
        {
          "output_type": "stream",
          "name": "stdout",
          "text": [
            "Looking in indexes: https://pypi.org/simple, https://us-python.pkg.dev/colab-wheels/public/simple/\n",
            "Collecting celestron-point\n",
            "  Downloading celestron-point-0.0.2.tar.gz (2.4 kB)\n",
            "Collecting pyserial\n",
            "  Downloading pyserial-3.5-py2.py3-none-any.whl (90 kB)\n",
            "\u001b[K     |████████████████████████████████| 90 kB 5.5 MB/s \n",
            "\u001b[?25hBuilding wheels for collected packages: celestron-point\n",
            "  Building wheel for celestron-point (setup.py) ... \u001b[?25l\u001b[?25hdone\n",
            "  Created wheel for celestron-point: filename=celestron_point-0.0.2-py3-none-any.whl size=2831 sha256=2d2c705eecebcdc441d6199801b75a59601d261d985b3e113f8fa3e3c29c25e1\n",
            "  Stored in directory: /root/.cache/pip/wheels/4c/45/6f/70dd5182cb249b19bb7ad65444db8d0b6288a786a6d9b90903\n",
            "Successfully built celestron-point\n",
            "Installing collected packages: pyserial, celestron-point\n",
            "Successfully installed celestron-point-0.0.2 pyserial-3.5\n"
          ]
        },
        {
          "output_type": "error",
          "ename": "TypeError",
          "evalue": "ignored",
          "traceback": [
            "\u001b[0;31m---------------------------------------------------------------------------\u001b[0m",
            "\u001b[0;31mTypeError\u001b[0m                                 Traceback (most recent call last)",
            "\u001b[0;32m<ipython-input-17-084a9883fe9a>\u001b[0m in \u001b[0;36m<module>\u001b[0;34m\u001b[0m\n\u001b[1;32m      2\u001b[0m \u001b[0mget_ipython\u001b[0m\u001b[0;34m(\u001b[0m\u001b[0;34m)\u001b[0m\u001b[0;34m.\u001b[0m\u001b[0msystem\u001b[0m\u001b[0;34m(\u001b[0m\u001b[0;34m'pip install celestron-point'\u001b[0m\u001b[0;34m)\u001b[0m\u001b[0;34m\u001b[0m\u001b[0;34m\u001b[0m\u001b[0m\n\u001b[1;32m      3\u001b[0m \u001b[0;32mfrom\u001b[0m \u001b[0mpoint\u001b[0m \u001b[0;32mimport\u001b[0m \u001b[0mnexstar\u001b[0m \u001b[0;32mas\u001b[0m \u001b[0mnp\u001b[0m\u001b[0;34m\u001b[0m\u001b[0;34m\u001b[0m\u001b[0m\n\u001b[0;32m----> 4\u001b[0;31m \u001b[0mn\u001b[0m\u001b[0;34m=\u001b[0m\u001b[0mnp\u001b[0m\u001b[0;34m.\u001b[0m\u001b[0mNexStar\u001b[0m\u001b[0;34m(\u001b[0m\u001b[0;34m'/dev/ttyUSB0'\u001b[0m\u001b[0;34m,\u001b[0m\u001b[0mread_timeout\u001b[0m\u001b[0;34m=\u001b[0m\u001b[0;36m3.5\u001b[0m\u001b[0;34m)\u001b[0m\u001b[0;34m\u001b[0m\u001b[0;34m\u001b[0m\u001b[0m\n\u001b[0m\u001b[1;32m      5\u001b[0m \u001b[0mprint\u001b[0m\u001b[0;34m(\u001b[0m\u001b[0mnp\u001b[0m\u001b[0;34m.\u001b[0m\u001b[0mNexStar\u001b[0m\u001b[0;34m.\u001b[0m\u001b[0mget_location\u001b[0m\u001b[0;34m(\u001b[0m\u001b[0;34m)\u001b[0m\u001b[0;34m)\u001b[0m\u001b[0;34m\u001b[0m\u001b[0;34m\u001b[0m\u001b[0m\n\u001b[1;32m      6\u001b[0m \u001b[0mnp\u001b[0m\u001b[0;34m.\u001b[0m\u001b[0mNexStar\u001b[0m\u001b[0;34m.\u001b[0m\u001b[0mset_tracking_mode\u001b[0m\u001b[0;34m(\u001b[0m\u001b[0;36m1\u001b[0m\u001b[0;34m)\u001b[0m\u001b[0;34m\u001b[0m\u001b[0;34m\u001b[0m\u001b[0m\n",
            "\u001b[0;31mTypeError\u001b[0m: __init__() got an unexpected keyword argument 'read_timeout'"
          ]
        }
      ]
    },
    {
      "cell_type": "code",
      "source": [
        "#Data Collection and Storing in a CSV file \n",
        "\n",
        "import pandas as pd \n",
        "data={\"Azimuthal\":[23,45,67,89,56,89,23],\"Altitude\":[1,2,3,4,5,6]}\n",
        "df=pd.DataFrame(data, index=[0,1,2,3])\n",
        "init_time=[]\n",
        "fin_time=[]\n",
        "np.NexStar.slew\n",
        "for i in range(6):       \n",
        "  init_time[i]=np.Nexstar.getTime()\n",
        "  np.Nexstar.goto_azalt( data[\"Azimuthal\"][i], data[\"Altitude\"][i])\n",
        "  fin_time[i]=np.Nexstar.get_Time()\n",
        "\n",
        "df[\"Intial Time\"]=init_time\n",
        "df[\"Final Time\"]=fin_time\n",
        "print(df)\n",
        "df.info()\n",
        "df.to_csv(\"data.csv\", sep='\\t', encoding='utf-8')\n",
        "\n"
      ],
      "metadata": {
        "colab": {
          "base_uri": "https://localhost:8080/"
        },
        "id": "fI1Ief61K9c3",
        "outputId": "af1c402d-93b0-4bf9-81bd-b4e41ba9256a"
      },
      "execution_count": null,
      "outputs": [
        {
          "output_type": "stream",
          "name": "stdout",
          "text": [
            "   Azimuthal  Altitude  TimeTake\n",
            "0         23         1  0.223099\n",
            "1         45         2  0.067603\n",
            "2         67         3  0.581740\n",
            "3         89         4  0.381438\n"
          ]
        }
      ]
    },
    {
      "cell_type": "code",
      "source": [
        "#Data Plotting and Analysis \n",
        "import matplotlib.pyplot as plt\n",
        "import numpy as np \n",
        "import pandas as pd\n",
        "#data=pd.read_csv('data.csv', sep='\\t')\n",
        "data={\"index\":[1,2,3,4],\"Timetake\":[23,4,54,89]} #Sample Data \n",
        "\n",
        "index = pd.DataFrame(data['index'])\n",
        "time=pd.DataFrame(data['Timetake'])\n",
        " \n",
        "xpoints=np.array(index.to_numpy())\n",
        "ypoints=np.array(time.to_numpy())\n",
        "plt.plot(xpoints,ypoints)\n",
        "plt.scatter(xpoints,ypoints,color=\"red\")\n",
        "plt.xlabel(\"Telescope Configuration\")\n",
        "plt.ylabel(\"Time Taken\")\n",
        "plt.show()\n"
      ],
      "metadata": {
        "colab": {
          "base_uri": "https://localhost:8080/",
          "height": 279
        },
        "id": "yedJmQlgOJj2",
        "outputId": "070dc3e0-4f35-4679-cbe3-ed928242516c"
      },
      "execution_count": null,
      "outputs": [
        {
          "output_type": "display_data",
          "data": {
            "text/plain": [
              "<Figure size 432x288 with 1 Axes>"
            ],
            "image/png": "[encoded data removed]"
          },
          "metadata": {
            "needs_background": "light"
          }
        }
      ]
    },
    {
      "cell_type": "code",
      "source": [],
      "metadata": {
        "id": "33RSzllWCeel"
      },
      "execution_count": null,
      "outputs": []
    }
  ]
}